{
 "cells": [
  {
   "cell_type": "markdown",
   "metadata": {},
   "source": [
    "# Correlations to (avg price /kg )\n",
    "\n",
    "\n",
    "\n",
    "Weight ~ - 0.33\n",
    "\n",
    "Low_Price  ~ -0.14\n",
    "\n",
    "High_Price ~ -0.16\n",
    "\n",
    "\n",
    "$$avg Price per kg  = \\frac{(High + Low)/2}{Weight}$$ \n",
    "\n",
    "\n",
    "\n",
    "Now if we were to look strictly at the average price exclude kg part\n",
    "\n",
    "$$avg  = \\frac{(High + Low)/2}{N}$$ \n",
    "\n",
    "\n",
    "BUT on this predict and the Train data set the avg Price per kg is\n",
    "\n",
    "$$avg  = \\frac{total Sales}{Total Kg Sold}$$ \n",
    "\n",
    "\n",
    "Bare in Mind we are not using the feature selection or other feature engineering techniques yet\n",
    "we are trying to make sense Mathematically before we use any tool\n",
    "\n",
    "Now Basically we have 5 very important variables \n",
    "#### Total sales ,Total kg Sold , High Price , Low Price , weight  \n",
    "but im not saying we should ignore the other variables\n",
    "\n",
    "\n",
    "These are the things we have to consider when we now using the feature selection part or plotting our visuals\n",
    "meaning to choose the best  Model we have to choose the most critical variables or Rather the X value (s)"
   ]
  },
  {
   "cell_type": "markdown",
   "metadata": {},
   "source": [
    "eventually another important question does it make sense to make the Total sales as an independent variable as in like\n",
    "avg price vs total sales \n",
    "\n",
    "are these two variables the same thing \n",
    "is just that avg price is quantified whereas total sales is just the sum total of apples , \n",
    "\n",
    "because both this variables are prices of the same thing \n",
    "\n",
    "this was just a brief thinking for us to guide us into the right direction when we will be choosing the correct model\n",
    "\n",
    "unlike disregarding a model because it yields a high RMSE whereas it was correct but we just didnt choose the correct variables\n",
    "\n",
    "lets also label the axis of our graphs or visuals this will emphasis the above \n",
    "Thanks "
   ]
  },
  {
   "cell_type": "markdown",
   "metadata": {},
   "source": [
    "### Oh and lastly i would like us to pay careful to the correlation values and what they actually mean to us about the variables"
   ]
  },
  {
   "cell_type": "code",
   "execution_count": null,
   "metadata": {},
   "outputs": [],
   "source": []
  }
 ],
 "metadata": {
  "kernelspec": {
   "display_name": "Python 3",
   "language": "python",
   "name": "python3"
  },
  "language_info": {
   "codemirror_mode": {
    "name": "ipython",
    "version": 3
   },
   "file_extension": ".py",
   "mimetype": "text/x-python",
   "name": "python",
   "nbconvert_exporter": "python",
   "pygments_lexer": "ipython3",
   "version": "3.8.5"
  }
 },
 "nbformat": 4,
 "nbformat_minor": 4
}
